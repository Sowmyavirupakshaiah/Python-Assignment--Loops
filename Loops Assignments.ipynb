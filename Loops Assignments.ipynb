{
 "cells": [
  {
   "cell_type": "markdown",
   "id": "9b15bf66",
   "metadata": {},
   "source": [
    "# 1)\tWhat is the value of x"
   ]
  },
  {
   "cell_type": "code",
   "execution_count": 1,
   "id": "e5804d9f",
   "metadata": {},
   "outputs": [
    {
     "name": "stdout",
     "output_type": "stream",
     "text": [
      "100\n"
     ]
    }
   ],
   "source": [
    "x = 0\n",
    "while (x < 100):\n",
    "  x+=2\n",
    "print(x)"
   ]
  },
  {
   "cell_type": "markdown",
   "id": "9496826d",
   "metadata": {},
   "source": [
    "Ans: d)100"
   ]
  },
  {
   "cell_type": "markdown",
   "id": "9f81aca0",
   "metadata": {},
   "source": [
    "# 2)Using while loop accept numbers until the sum of number is less than 100."
   ]
  },
  {
   "cell_type": "code",
   "execution_count": 13,
   "id": "1d31d4e3",
   "metadata": {},
   "outputs": [
    {
     "name": "stdout",
     "output_type": "stream",
     "text": [
      "enter the number25\n",
      "enter the number25\n",
      "enter the number25\n",
      "enter the number25\n",
      "100\n"
     ]
    }
   ],
   "source": [
    "sum=0\n",
    "diff=0\n",
    "\n",
    "while sum<100:\n",
    "    i=int(input(\"enter the number\"))\n",
    "    diff=100-sum;\n",
    "    if diff<0:\n",
    "        break;\n",
    "    else:\n",
    "        sum=sum+i;\n",
    "   \n",
    "    \n",
    "print(sum)"
   ]
  },
  {
   "cell_type": "markdown",
   "id": "39ccef07",
   "metadata": {},
   "source": [
    "# 3)\tTake 10 integers from keyboard using loop and print their average value on the screen"
   ]
  },
  {
   "cell_type": "code",
   "execution_count": 18,
   "id": "6d4e244b",
   "metadata": {},
   "outputs": [
    {
     "name": "stdout",
     "output_type": "stream",
     "text": [
      "Enter number: 65\n",
      "Enter number: 21\n",
      "Enter number: 26\n",
      "Enter number: 03\n",
      "Enter number: 02\n",
      "Enter number: 04\n",
      "Enter number: 96\n",
      "Enter number: 78\n",
      "Enter number: 58\n",
      "Enter number: 95\n",
      "Average of numbers = 44.80\n"
     ]
    }
   ],
   "source": [
    "# denotes total sum of ten numbers\n",
    "total_sum = 0\n",
    "\n",
    "for n in range (10):\n",
    "    # take inputs\n",
    "    num = float(input('Enter number: '))\n",
    "    # calculate total sum of numbers\n",
    "    total_sum += num\n",
    "\n",
    "# calculate average of numbers\n",
    "avg = total_sum / 10\n",
    "\n",
    "# print average value\n",
    "print('Average of numbers = %0.2f' %avg)\n",
    " \n",
    "  \n",
    "\n"
   ]
  },
  {
   "cell_type": "markdown",
   "id": "4a5970dd",
   "metadata": {},
   "source": [
    "# 4)\tPrint the following patterns using loop :"
   ]
  },
  {
   "cell_type": "code",
   "execution_count": 30,
   "id": "612a828b",
   "metadata": {},
   "outputs": [
    {
     "name": "stdout",
     "output_type": "stream",
     "text": [
      "* \r\n",
      "* * \r\n",
      "* * * \r\n",
      "* * * * \r\n"
     ]
    }
   ],
   "source": [
    "rows = 4\n",
    "for i in range(0, rows):\n",
    "    # nested loop for each column\n",
    "    for j in range(0, i + 1):\n",
    "        # print star\n",
    "        print(\"*\", end=' ')\n",
    "    # new line after each row\n",
    "    print(\"\\r\")"
   ]
  },
  {
   "cell_type": "code",
   "execution_count": 28,
   "id": "2fc1233b",
   "metadata": {},
   "outputs": [
    {
     "name": "stdout",
     "output_type": "stream",
     "text": [
      "    * \n",
      "   * * \n",
      "  * * * \n",
      " * * * * \n",
      "  * * * \n",
      "   * * \n",
      "    * \n"
     ]
    }
   ],
   "source": [
    "rows = 3\n",
    "k = 2 * rows - 2\n",
    "for i in range(0, rows):\n",
    "    for j in range(0, k):\n",
    "        print(end=\" \")\n",
    "    k = k - 1\n",
    "    for j in range(0, i + 1):\n",
    "        print(\"* \", end=\"\")\n",
    "    print(\"\")\n",
    "    \n",
    "k = rows - 2\n",
    "\n",
    "for i in range(rows, -1, -1):\n",
    "    for j in range(k, 0, -1):\n",
    "        print(end=\" \")\n",
    "    k = k + 1\n",
    "    for j in range(0, i + 1):\n",
    "        print(\"* \", end=\"\")\n",
    "    print(\"\")"
   ]
  },
  {
   "cell_type": "code",
   "execution_count": 36,
   "id": "bdc0e8dc",
   "metadata": {},
   "outputs": [
    {
     "name": "stdout",
     "output_type": "stream",
     "text": [
      "first value : 1\n",
      "second value : 0\n",
      "rows you want? : 4\n",
      "1010101\n",
      " 10101 \n",
      "  101  \n",
      "   1   \n"
     ]
    }
   ],
   "source": [
    "p = input(\"first value : \")\n",
    "q = input(\"second value : \")\n",
    "j = 0\n",
    "k = int(input(\"rows you want? : \"))\n",
    "while k >= 1:\n",
    "    print(\" \"*j + (k-1)*(p+q) +p+ \" \"*j)\n",
    "    k = k-1\n",
    "    j=j+1"
   ]
  },
  {
   "cell_type": "markdown",
   "id": "e963be5d",
   "metadata": {},
   "source": [
    "# 5)\tPrint multiplication table of given number\n",
    "     For example num = 2 so the output should be\n"
   ]
  },
  {
   "cell_type": "code",
   "execution_count": 42,
   "id": "e92cfb5b",
   "metadata": {},
   "outputs": [
    {
     "name": "stdout",
     "output_type": "stream",
     "text": [
      "Enter the number: 5\n",
      "Multiplication Table of 5\n",
      "5\n",
      "10\n",
      "15\n",
      "20\n",
      "25\n",
      "30\n",
      "35\n",
      "40\n",
      "45\n",
      "50\n"
     ]
    }
   ],
   "source": [
    "num = int(input(\"Enter the number: \"))\n",
    "\n",
    "print(\"Multiplication Table of\", num)\n",
    "for i in range(1, 11):\n",
    "   print(num * i)"
   ]
  },
  {
   "cell_type": "markdown",
   "id": "79ff883b",
   "metadata": {},
   "source": [
    "# 6)\tGiven a list iterate it and display numbers which are divisible by 5 and if you find number greater than 150 stop the loop iteration\n",
    "list1 = [12, 15, 32, 42, 55, 75, 122, 132, 150, 180, 200]\n"
   ]
  },
  {
   "cell_type": "code",
   "execution_count": 45,
   "id": "6d96b424",
   "metadata": {},
   "outputs": [
    {
     "name": "stdout",
     "output_type": "stream",
     "text": [
      "15\n",
      "55\n",
      "75\n",
      "150\n",
      "180\n",
      "200\n"
     ]
    }
   ],
   "source": [
    "y = [12, 15, 32, 42, 55, 75, 122, 132, 150, 180, 200]\n",
    "for x in y:\n",
    "    if (x % 5 == 0):\n",
    "            print(x)"
   ]
  },
  {
   "cell_type": "markdown",
   "id": "ddf678e1",
   "metadata": {},
   "source": [
    "# 7)Given a number count the total number of digits in a number\n",
    " For example, the number is 75869, so the output should be 5.\n"
   ]
  },
  {
   "cell_type": "code",
   "execution_count": 47,
   "id": "e47860c2",
   "metadata": {},
   "outputs": [
    {
     "name": "stdout",
     "output_type": "stream",
     "text": [
      "the number is: 123456\n",
      "\n",
      " Number of Digits in a Given Number = 6\n"
     ]
    }
   ],
   "source": [
    "def Counting(Number):\n",
    "    Count = 0\n",
    "    while(Number > 0):\n",
    "        Number = Number // 10\n",
    "        Count = Count + 1\n",
    "    return Count\n",
    "\n",
    "Number = int(input(\"the number is: \"))\n",
    "Count = Counting(Number)\n",
    "print(\"\\n Number of Digits in a Given Number = %d\" %Count)"
   ]
  },
  {
   "cell_type": "markdown",
   "id": "927dc7b0",
   "metadata": {},
   "source": [
    "# 8)Display -10 to -1 using for loop"
   ]
  },
  {
   "cell_type": "code",
   "execution_count": 49,
   "id": "0501d9cb",
   "metadata": {},
   "outputs": [
    {
     "name": "stdout",
     "output_type": "stream",
     "text": [
      "-10\n",
      "-9\n",
      "-8\n",
      "-7\n",
      "-6\n",
      "-5\n",
      "-4\n",
      "-3\n",
      "-2\n",
      "-1\n"
     ]
    }
   ],
   "source": [
    "for num in range (-10, 0):\n",
    "    print(num)"
   ]
  },
  {
   "cell_type": "markdown",
   "id": "70e534d7",
   "metadata": {},
   "source": [
    "# 9) Display a message “Done” after successful execution of for loop"
   ]
  },
  {
   "cell_type": "code",
   "execution_count": 51,
   "id": "2727eea0",
   "metadata": {},
   "outputs": [
    {
     "name": "stdout",
     "output_type": "stream",
     "text": [
      "0\n",
      "1\n",
      "2\n",
      "3\n",
      "4\n",
      "Done!\n"
     ]
    }
   ],
   "source": [
    "for i in range(5):\n",
    "    print(i)\n",
    "else:\n",
    "    print(\"Done!\")"
   ]
  },
  {
   "cell_type": "markdown",
   "id": "32459bac",
   "metadata": {},
   "source": [
    "# 10) Print the following pattern using nested for loop\n",
    "Expected output\n"
   ]
  },
  {
   "cell_type": "code",
   "execution_count": 53,
   "id": "97434090",
   "metadata": {},
   "outputs": [
    {
     "name": "stdout",
     "output_type": "stream",
     "text": [
      "5 4 3 2 1 \n",
      "4 3 2 1 \n",
      "3 2 1 \n",
      "2 1 \n",
      "1 \n",
      "\n"
     ]
    }
   ],
   "source": [
    "rows = 5\n",
    "for i in range(0, rows + 1):\n",
    "    for j in range(rows - i, 0, -1):\n",
    "        print(j, end=' ')\n",
    "    print()"
   ]
  }
 ],
 "metadata": {
  "kernelspec": {
   "display_name": "Python 3 (ipykernel)",
   "language": "python",
   "name": "python3"
  },
  "language_info": {
   "codemirror_mode": {
    "name": "ipython",
    "version": 3
   },
   "file_extension": ".py",
   "mimetype": "text/x-python",
   "name": "python",
   "nbconvert_exporter": "python",
   "pygments_lexer": "ipython3",
   "version": "3.9.7"
  }
 },
 "nbformat": 4,
 "nbformat_minor": 5
}
